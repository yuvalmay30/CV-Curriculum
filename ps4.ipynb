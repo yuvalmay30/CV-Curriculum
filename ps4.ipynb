{
  "nbformat": 4,
  "nbformat_minor": 0,
  "metadata": {
    "colab": {
      "name": "ps4.ipynb",
      "provenance": [],
      "mount_file_id": "1SarnJut3FH2JUuVdEJ0nXIL-IqNq9fDP",
      "authorship_tag": "ABX9TyNrp6b7n+xHEbAehwb8bZDB",
      "include_colab_link": true
    },
    "kernelspec": {
      "name": "python3",
      "display_name": "Python 3"
    },
    "language_info": {
      "name": "python"
    }
  },
  "cells": [
    {
      "cell_type": "markdown",
      "metadata": {
        "id": "view-in-github",
        "colab_type": "text"
      },
      "source": [
        "<a href=\"https://colab.research.google.com/github/yuvalmay30/CV-Curriculum/blob/main/ps4.ipynb\" target=\"_parent\"><img src=\"https://colab.research.google.com/assets/colab-badge.svg\" alt=\"Open In Colab\"/></a>"
      ]
    },
    {
      "cell_type": "code",
      "metadata": {
        "id": "R0QYEU2AXXQ7"
      },
      "source": [
        "import numpy as np\n",
        "import cv2\n",
        "from google.colab.patches import cv2_imshow"
      ],
      "execution_count": 24,
      "outputs": []
    },
    {
      "cell_type": "code",
      "metadata": {
        "id": "b3ZaVVoEui3z"
      },
      "source": [
        "def calculate_derivatives(image, ksize):\n",
        "  grad_x = cv2.Sobel(image, cv2.CV_32F, 1, 0, ksize=ksize)\n",
        "  grad_y = cv2.Sobel(image, cv2.CV_32F, 0, 1, ksize=ksize)\n",
        "\n",
        "  return grad_x, grad_y\n",
        "\n",
        "\n",
        "def ps4_1_a():\n",
        "  transA = cv2.imread('transA.jpg')\n",
        "  simA = cv2.imread('simA.jpg')\n",
        "\n",
        "  transA_grad_x, transA_grad_y = calculate_derivatives(transA, 3)\n",
        "\n",
        "  simA_grad_x, simA_grad_y = calculate_derivatives(simA, 3)\n",
        "\n",
        "  transA_gradient_pair = np.concatenate((transA_grad_x, transA_grad_y), axis=1)\n",
        "  simA_gradient_pair = np.concatenate((simA_grad_x, simA_grad_y), axis=1)\n",
        "\n",
        "  cv2.imwrite('output/ps4-1-a-1.jpg', transA_gradient_pair)\n",
        "  cv2.imwrite('output/ps4-1-a-2.jpg', simA_gradient_pair)\n",
        "\n",
        "\n",
        "def ps4_1_b():\n",
        "  transA = cv2.imread('transA.jpg')\n",
        "  simA = cv2.imread('simA.jpg')\n",
        "\n",
        "  transA_grad_x = calculate_derivatives(transA, 1, 0)\n",
        "  transA_grad_y = calculate_derivatives(transA, 0, 1)\n",
        "\n",
        "  simA_grad_x = calculate_derivatives(simA, 1, 0)\n",
        "  simA_grad_y = calculate_derivatives(simA, 0, 1)\n",
        "\n",
        "  transA_gradient_pair = np.concatenate((transA_grad_x, transA_grad_y), axis=1)\n",
        "  simA_gradient_pair = np.concatenate((simA_grad_x, simA_grad_y), axis=1)\n",
        "\n",
        "\n",
        "\n",
        "ps4_1_a()"
      ],
      "execution_count": 36,
      "outputs": []
    },
    {
      "cell_type": "code",
      "metadata": {
        "id": "figezDK8whKm"
      },
      "source": [
        ""
      ],
      "execution_count": null,
      "outputs": []
    },
    {
      "cell_type": "code",
      "metadata": {
        "id": "Tx9_CCHrvSMl"
      },
      "source": [
        "\n"
      ],
      "execution_count": 13,
      "outputs": []
    }
  ]
}