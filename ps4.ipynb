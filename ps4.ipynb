{
  "nbformat": 4,
  "nbformat_minor": 0,
  "metadata": {
    "colab": {
      "name": "ps4.ipynb",
      "provenance": [],
      "mount_file_id": "1SarnJut3FH2JUuVdEJ0nXIL-IqNq9fDP",
      "authorship_tag": "ABX9TyOeO52C9mHEuYv7OXh3unrX",
      "include_colab_link": true
    },
    "kernelspec": {
      "name": "python3",
      "display_name": "Python 3"
    },
    "language_info": {
      "name": "python"
    }
  },
  "cells": [
    {
      "cell_type": "markdown",
      "metadata": {
        "id": "view-in-github",
        "colab_type": "text"
      },
      "source": [
        "<a href=\"https://colab.research.google.com/github/yuvalmay30/CV-Curriculum/blob/main/ps4.ipynb\" target=\"_parent\"><img src=\"https://colab.research.google.com/assets/colab-badge.svg\" alt=\"Open In Colab\"/></a>"
      ]
    },
    {
      "cell_type": "code",
      "metadata": {
        "id": "R0QYEU2AXXQ7"
      },
      "source": [
        "import numpy as np\n",
        "import cv2\n",
        "from google.colab.patches import cv2_imshow"
      ],
      "execution_count": 12,
      "outputs": []
    },
    {
      "cell_type": "code",
      "metadata": {
        "id": "b3ZaVVoEui3z"
      },
      "source": [
        "def calculate_derivatives(image, ksize):\n",
        "  grad_x = cv2.Sobel(image, cv2.CV_32F, 1, 0, ksize=ksize)\n",
        "  grad_y = cv2.Sobel(image, cv2.CV_32F, 0, 1, ksize=ksize)\n",
        "\n",
        "  return grad_x, grad_y\n",
        "\n",
        "\n",
        "def generate_gradient_pair_images(image_path, output_file_path):\n",
        "  image = cv2.imread(image_path)\n",
        "\n",
        "  image_grad_x, image_grad_y = calculate_derivatives(image, 3)\n",
        "\n",
        "  image_gradient_pair = np.concatenate((image_grad_x, image_grad_y), axis=1)\n",
        "\n",
        "  cv2.imwrite(output_file_path, image_gradient_pair)\n",
        "  "
      ],
      "execution_count": 16,
      "outputs": []
    },
    {
      "cell_type": "code",
      "metadata": {
        "id": "figezDK8whKm"
      },
      "source": [
        "def ps4_1_a():\n",
        "  generate_gradient_pair_images('transA.jpg', 'output/ps4-1-a-1.jpg')\n",
        "  generate_gradient_pair_images('simA.jpg', 'output/ps4-1-a-2.jpg')\n",
        "\n",
        "ps4_1_a()"
      ],
      "execution_count": 18,
      "outputs": []
    },
    {
      "cell_type": "code",
      "metadata": {
        "id": "Tx9_CCHrvSMl"
      },
      "source": [
        "def ps4_1_b():\n",
        "  transA = cv2.imread('transA.jpg')\n",
        "  simA = cv2.imread('simA.jpg')\n",
        "\n",
        "  transA_grad_x = calculate_derivatives(transA, 1, 0)\n",
        "  transA_grad_y = calculate_derivatives(transA, 0, 1)\n",
        "\n",
        "  simA_grad_x = calculate_derivatives(simA, 1, 0)\n",
        "  simA_grad_y = calculate_derivatives(simA, 0, 1)\n",
        "\n",
        "  transA_gradient_pair = np.concatenate((transA_grad_x, transA_grad_y), axis=1)\n",
        "  simA_gradient_pair = np.concatenate((simA_grad_x, simA_grad_y), axis=1)\n",
        "\n",
        "\n",
        "ps4_1_b()"
      ],
      "execution_count": 13,
      "outputs": []
    }
  ]
}